{
 "cells": [
  {
   "cell_type": "code",
   "execution_count": 16,
   "metadata": {},
   "outputs": [],
   "source": [
    "import pandas as pd\n",
    "import seaborn as sns\n",
    "import zipfile\n",
    "import matplotlib.pyplot as plt\n",
    "import plotly.express as px\n",
    "%matplotlib inline\n",
    "import matplotlib as mpl\n",
    "import numpy as np\n",
    "\n",
    "# open zipped dataset\n",
    "with zipfile.ZipFile(\"PregnancyData.zip\") as z:\n",
    "   # open the csv file in the dataset\n",
    "   with z.open(\"PregnancyData.csv\") as f:\n",
    "     # read the dataset\n",
    "      df = pd.read_csv(f, low_memory=False)"
   ]
  },
  {
   "cell_type": "code",
   "execution_count": 17,
   "metadata": {},
   "outputs": [
    {
     "name": "stderr",
     "output_type": "stream",
     "text": [
      "C:\\Users\\dauga\\AppData\\Local\\Temp\\ipykernel_1916\\57029720.py:11: SettingWithCopyWarning: \n",
      "A value is trying to be set on a copy of a slice from a DataFrame.\n",
      "Try using .loc[row_indexer,col_indexer] = value instead\n",
      "\n",
      "See the caveats in the documentation: https://pandas.pydata.org/pandas-docs/stable/user_guide/indexing.html#returning-a-view-versus-a-copy\n",
      "  mod_df['Embryos Transfered'] = df['Embryos Transfered']\n"
     ]
    }
   ],
   "source": [
    "# Getting the list of columns\n",
    "col = df.columns\n",
    "\n",
    "# Delete columns containing either 6% or more than 6% NaN Values\n",
    "perc = 6.0\n",
    "min_count = int(((100-perc)/100)*df.shape[0] + 1)\n",
    "mod_df = df.dropna( axis=1, thresh=min_count)\n",
    "col_mod = mod_df.columns\n",
    "\n",
    "# Adding new Embryos Transfered column to mod_df from df\n",
    "mod_df['Embryos Transfered'] = df['Embryos Transfered']"
   ]
  },
  {
   "cell_type": "code",
   "execution_count": 18,
   "metadata": {},
   "outputs": [
    {
     "name": "stderr",
     "output_type": "stream",
     "text": [
      "C:\\Users\\dauga\\AppData\\Local\\Temp\\ipykernel_1916\\3246926807.py:2: SettingWithCopyWarning: \n",
      "A value is trying to be set on a copy of a slice from a DataFrame\n",
      "\n",
      "See the caveats in the documentation: https://pandas.pydata.org/pandas-docs/stable/user_guide/indexing.html#returning-a-view-versus-a-copy\n",
      "  mod_df.drop('Total Number of Previous cycles, Both IVF and DI', axis=1, inplace = True)\n",
      "C:\\Users\\dauga\\AppData\\Local\\Temp\\ipykernel_1916\\3246926807.py:3: SettingWithCopyWarning: \n",
      "A value is trying to be set on a copy of a slice from a DataFrame\n",
      "\n",
      "See the caveats in the documentation: https://pandas.pydata.org/pandas-docs/stable/user_guide/indexing.html#returning-a-view-versus-a-copy\n",
      "  mod_df.drop('Total Number of Previous treatments, Both IVF and DI at clinic', axis=1, inplace = True)\n",
      "C:\\Users\\dauga\\AppData\\Local\\Temp\\ipykernel_1916\\3246926807.py:4: SettingWithCopyWarning: \n",
      "A value is trying to be set on a copy of a slice from a DataFrame\n",
      "\n",
      "See the caveats in the documentation: https://pandas.pydata.org/pandas-docs/stable/user_guide/indexing.html#returning-a-view-versus-a-copy\n",
      "  mod_df.drop('Total Number of Previous DI cycles', axis=1, inplace = True)\n",
      "C:\\Users\\dauga\\AppData\\Local\\Temp\\ipykernel_1916\\3246926807.py:5: SettingWithCopyWarning: \n",
      "A value is trying to be set on a copy of a slice from a DataFrame\n",
      "\n",
      "See the caveats in the documentation: https://pandas.pydata.org/pandas-docs/stable/user_guide/indexing.html#returning-a-view-versus-a-copy\n",
      "  mod_df.drop('Total number of previous pregnancies, Both IVF and DI', axis=1, inplace = True)\n",
      "C:\\Users\\dauga\\AppData\\Local\\Temp\\ipykernel_1916\\3246926807.py:6: SettingWithCopyWarning: \n",
      "A value is trying to be set on a copy of a slice from a DataFrame\n",
      "\n",
      "See the caveats in the documentation: https://pandas.pydata.org/pandas-docs/stable/user_guide/indexing.html#returning-a-view-versus-a-copy\n",
      "  mod_df.drop('Total number of DI pregnancies', axis=1, inplace = True)\n",
      "C:\\Users\\dauga\\AppData\\Local\\Temp\\ipykernel_1916\\3246926807.py:7: SettingWithCopyWarning: \n",
      "A value is trying to be set on a copy of a slice from a DataFrame\n",
      "\n",
      "See the caveats in the documentation: https://pandas.pydata.org/pandas-docs/stable/user_guide/indexing.html#returning-a-view-versus-a-copy\n",
      "  mod_df.drop('Total number of live births - conceived through IVF or DI', axis=1, inplace = True)\n",
      "C:\\Users\\dauga\\AppData\\Local\\Temp\\ipykernel_1916\\3246926807.py:8: SettingWithCopyWarning: \n",
      "A value is trying to be set on a copy of a slice from a DataFrame\n",
      "\n",
      "See the caveats in the documentation: https://pandas.pydata.org/pandas-docs/stable/user_guide/indexing.html#returning-a-view-versus-a-copy\n",
      "  mod_df.drop('Total number of live births - conceived through DI', axis=1, inplace = True)\n",
      "C:\\Users\\dauga\\AppData\\Local\\Temp\\ipykernel_1916\\3246926807.py:9: SettingWithCopyWarning: \n",
      "A value is trying to be set on a copy of a slice from a DataFrame\n",
      "\n",
      "See the caveats in the documentation: https://pandas.pydata.org/pandas-docs/stable/user_guide/indexing.html#returning-a-view-versus-a-copy\n",
      "  mod_df.drop('Type of treatment - IVF or DI', axis=1, inplace = True)\n",
      "C:\\Users\\dauga\\AppData\\Local\\Temp\\ipykernel_1916\\3246926807.py:10: SettingWithCopyWarning: \n",
      "A value is trying to be set on a copy of a slice from a DataFrame\n",
      "\n",
      "See the caveats in the documentation: https://pandas.pydata.org/pandas-docs/stable/user_guide/indexing.html#returning-a-view-versus-a-copy\n",
      "  mod_df.drop('Year of Treatment', axis=1, inplace = True)\n",
      "C:\\Users\\dauga\\AppData\\Local\\Temp\\ipykernel_1916\\3246926807.py:11: SettingWithCopyWarning: \n",
      "A value is trying to be set on a copy of a slice from a DataFrame\n",
      "\n",
      "See the caveats in the documentation: https://pandas.pydata.org/pandas-docs/stable/user_guide/indexing.html#returning-a-view-versus-a-copy\n",
      "  mod_df.drop('Cause of Infertility - Partner Sperm Concentration', axis=1, inplace = True)\n",
      "C:\\Users\\dauga\\AppData\\Local\\Temp\\ipykernel_1916\\3246926807.py:12: SettingWithCopyWarning: \n",
      "A value is trying to be set on a copy of a slice from a DataFrame\n",
      "\n",
      "See the caveats in the documentation: https://pandas.pydata.org/pandas-docs/stable/user_guide/indexing.html#returning-a-view-versus-a-copy\n",
      "  mod_df.drop('Cause of Infertility - Female Factors', axis=1, inplace = True)\n",
      "C:\\Users\\dauga\\AppData\\Local\\Temp\\ipykernel_1916\\3246926807.py:13: SettingWithCopyWarning: \n",
      "A value is trying to be set on a copy of a slice from a DataFrame\n",
      "\n",
      "See the caveats in the documentation: https://pandas.pydata.org/pandas-docs/stable/user_guide/indexing.html#returning-a-view-versus-a-copy\n",
      "  mod_df.drop('Causes of Infertility - Partner Sperm Motility', axis=1, inplace = True)\n",
      "C:\\Users\\dauga\\AppData\\Local\\Temp\\ipykernel_1916\\3246926807.py:14: SettingWithCopyWarning: \n",
      "A value is trying to be set on a copy of a slice from a DataFrame\n",
      "\n",
      "See the caveats in the documentation: https://pandas.pydata.org/pandas-docs/stable/user_guide/indexing.html#returning-a-view-versus-a-copy\n",
      "  mod_df.drop('Cause of Infertility -  Partner Sperm Immunological factors', axis=1, inplace = True)\n",
      "C:\\Users\\dauga\\AppData\\Local\\Temp\\ipykernel_1916\\3246926807.py:15: SettingWithCopyWarning: \n",
      "A value is trying to be set on a copy of a slice from a DataFrame\n",
      "\n",
      "See the caveats in the documentation: https://pandas.pydata.org/pandas-docs/stable/user_guide/indexing.html#returning-a-view-versus-a-copy\n",
      "  mod_df.drop('Specific treatment type', axis=1, inplace = True)\n"
     ]
    }
   ],
   "source": [
    "# Dropping more columns\n",
    "mod_df.drop('Total Number of Previous cycles, Both IVF and DI', axis=1, inplace = True)\n",
    "mod_df.drop('Total Number of Previous treatments, Both IVF and DI at clinic', axis=1, inplace = True)\n",
    "mod_df.drop('Total Number of Previous DI cycles', axis=1, inplace = True)\n",
    "mod_df.drop('Total number of previous pregnancies, Both IVF and DI', axis=1, inplace = True)\n",
    "mod_df.drop('Total number of DI pregnancies', axis=1, inplace = True)\n",
    "mod_df.drop('Total number of live births - conceived through IVF or DI', axis=1, inplace = True)\n",
    "mod_df.drop('Total number of live births - conceived through DI', axis=1, inplace = True)\n",
    "mod_df.drop('Type of treatment - IVF or DI', axis=1, inplace = True)\n",
    "mod_df.drop('Year of Treatment', axis=1, inplace = True)\n",
    "mod_df.drop('Cause of Infertility - Partner Sperm Concentration', axis=1, inplace = True)\n",
    "mod_df.drop('Cause of Infertility - Female Factors', axis=1, inplace = True)\n",
    "mod_df.drop('Causes of Infertility - Partner Sperm Motility', axis=1, inplace = True)\n",
    "mod_df.drop('Cause of Infertility -  Partner Sperm Immunological factors', axis=1, inplace = True)\n",
    "mod_df.drop('Specific treatment type', axis=1, inplace = True)"
   ]
  },
  {
   "cell_type": "code",
   "execution_count": 19,
   "metadata": {},
   "outputs": [
    {
     "name": "stderr",
     "output_type": "stream",
     "text": [
      "C:\\Users\\dauga\\AppData\\Local\\Temp\\ipykernel_1916\\339847022.py:2: SettingWithCopyWarning: \n",
      "A value is trying to be set on a copy of a slice from a DataFrame\n",
      "\n",
      "See the caveats in the documentation: https://pandas.pydata.org/pandas-docs/stable/user_guide/indexing.html#returning-a-view-versus-a-copy\n",
      "  mod_df.drop(mod_df.index[mod_df['Patient Age at Treatment'] == '999'], inplace = True)\n",
      "C:\\Users\\dauga\\AppData\\Local\\Temp\\ipykernel_1916\\339847022.py:3: SettingWithCopyWarning: \n",
      "A value is trying to be set on a copy of a slice from a DataFrame\n",
      "\n",
      "See the caveats in the documentation: https://pandas.pydata.org/pandas-docs/stable/user_guide/indexing.html#returning-a-view-versus-a-copy\n",
      "  mod_df.drop(mod_df.index[mod_df['Number of foetal sacs with fetal pulsation'] == 40], inplace = True)\n",
      "C:\\Users\\dauga\\AppData\\Local\\Temp\\ipykernel_1916\\339847022.py:4: SettingWithCopyWarning: \n",
      "A value is trying to be set on a copy of a slice from a DataFrame\n",
      "\n",
      "See the caveats in the documentation: https://pandas.pydata.org/pandas-docs/stable/user_guide/indexing.html#returning-a-view-versus-a-copy\n",
      "  mod_df.drop(mod_df.index[mod_df['Sperm From'] == 'not assigned'], inplace = True)\n",
      "C:\\Users\\dauga\\AppData\\Local\\Temp\\ipykernel_1916\\339847022.py:5: SettingWithCopyWarning: \n",
      "A value is trying to be set on a copy of a slice from a DataFrame\n",
      "\n",
      "See the caveats in the documentation: https://pandas.pydata.org/pandas-docs/stable/user_guide/indexing.html#returning-a-view-versus-a-copy\n",
      "  mod_df['Total Number of Previous IVF cycles'].replace({'0': 0, '1': 1, '2': 2, '3': 3, '4': 4, '5': 5, '>=5': 6}, inplace=True)\n",
      "C:\\Users\\dauga\\AppData\\Local\\Temp\\ipykernel_1916\\339847022.py:6: SettingWithCopyWarning: \n",
      "A value is trying to be set on a copy of a slice from a DataFrame\n",
      "\n",
      "See the caveats in the documentation: https://pandas.pydata.org/pandas-docs/stable/user_guide/indexing.html#returning-a-view-versus-a-copy\n",
      "  mod_df['Total number of IVF pregnancies'].replace({'0': 0, '1': 1, '2': 2, '3': 3, '4': 4, '5': 5, '>=5': 6}, inplace=True)\n",
      "C:\\Users\\dauga\\AppData\\Local\\Temp\\ipykernel_1916\\339847022.py:7: SettingWithCopyWarning: \n",
      "A value is trying to be set on a copy of a slice from a DataFrame\n",
      "\n",
      "See the caveats in the documentation: https://pandas.pydata.org/pandas-docs/stable/user_guide/indexing.html#returning-a-view-versus-a-copy\n",
      "  mod_df.fillna(value=mod_df['Embryos Transfered'].mean().astype(int), inplace=True)\n"
     ]
    }
   ],
   "source": [
    "# Fixing outliers and errors in data\n",
    "mod_df.drop(mod_df.index[mod_df['Patient Age at Treatment'] == '999'], inplace = True)\n",
    "mod_df.drop(mod_df.index[mod_df['Number of foetal sacs with fetal pulsation'] == 40], inplace = True)\n",
    "mod_df.drop(mod_df.index[mod_df['Sperm From'] == 'not assigned'], inplace = True)\n",
    "mod_df['Total Number of Previous IVF cycles'].replace({'0': 0, '1': 1, '2': 2, '3': 3, '4': 4, '5': 5, '>=5': 6}, inplace=True)\n",
    "mod_df['Total number of IVF pregnancies'].replace({'0': 0, '1': 1, '2': 2, '3': 3, '4': 4, '5': 5, '>=5': 6}, inplace=True)\n",
    "mod_df.fillna(value=mod_df['Embryos Transfered'].mean().astype(int), inplace=True)"
   ]
  },
  {
   "cell_type": "code",
   "execution_count": 20,
   "metadata": {},
   "outputs": [
    {
     "name": "stdout",
     "output_type": "stream",
     "text": [
      "0         41.0\n",
      "1         47.5\n",
      "2         36.0\n",
      "3         26.0\n",
      "4         26.0\n",
      "          ... \n",
      "158514    26.0\n",
      "158515    38.5\n",
      "158516    38.5\n",
      "158517    26.0\n",
      "158518    26.0\n",
      "Name: Patient Age at Treatment, Length: 156025, dtype: float64\n"
     ]
    },
    {
     "name": "stderr",
     "output_type": "stream",
     "text": [
      "C:\\Users\\dauga\\AppData\\Local\\Temp\\ipykernel_1916\\3493813235.py:14: SettingWithCopyWarning: \n",
      "A value is trying to be set on a copy of a slice from a DataFrame.\n",
      "Try using .loc[row_indexer,col_indexer] = value instead\n",
      "\n",
      "See the caveats in the documentation: https://pandas.pydata.org/pandas-docs/stable/user_guide/indexing.html#returning-a-view-versus-a-copy\n",
      "  mod_df['Patient Age at Treatment'] = age_as_medians\n"
     ]
    }
   ],
   "source": [
    "# Changing age ranges to age medians\n",
    "\n",
    "from statistics import median\n",
    "\n",
    "age_as_medians = []\n",
    "\n",
    "for age in mod_df['Patient Age at Treatment']:\n",
    "    \n",
    "    age_clean = age.replace(' ', '').replace('-', '')\n",
    "    age_min = int(age_clean[:2])\n",
    "    age_max = int(age_clean[2:])\n",
    "    age_as_medians.append(median([age_min, age_max]))\n",
    "    \n",
    "mod_df['Patient Age at Treatment'] = age_as_medians\n",
    "\n",
    "print(mod_df['Patient Age at Treatment'])"
   ]
  },
  {
   "cell_type": "code",
   "execution_count": 21,
   "metadata": {},
   "outputs": [
    {
     "name": "stdout",
     "output_type": "stream",
     "text": [
      "0         1\n",
      "1         0\n",
      "2         0\n",
      "3         0\n",
      "4         0\n",
      "         ..\n",
      "158514    0\n",
      "158515    0\n",
      "158516    0\n",
      "158517    0\n",
      "158518    0\n",
      "Name: Number of Live Births, Length: 156025, dtype: int64\n"
     ]
    }
   ],
   "source": [
    "# Replacing strings with dummy values\n",
    "\n",
    "df_with_dummies= pd.get_dummies(mod_df,drop_first=False)\n",
    "\n",
    "print(mod_df['Number of Live Births'])"
   ]
  },
  {
   "cell_type": "code",
   "execution_count": 22,
   "metadata": {},
   "outputs": [],
   "source": [
    "# Splitting data\n",
    "\n",
    "from sklearn.model_selection import train_test_split\n",
    "\n",
    "train_set, test_set = train_test_split(df_with_dummies, test_size=0.2, random_state=42)\n",
    "X_train, y_train = train_set.drop('Total number of IVF pregnancies', axis=1), train_set['Total number of IVF pregnancies']\n",
    "X_test, y_test = test_set.drop('Total number of IVF pregnancies', axis=1), test_set['Total number of IVF pregnancies']"
   ]
  },
  {
   "cell_type": "code",
   "execution_count": 23,
   "metadata": {},
   "outputs": [
    {
     "data": {
      "text/plain": [
       "{'max_features': 8, 'n_estimators': 30}"
      ]
     },
     "execution_count": 23,
     "metadata": {},
     "output_type": "execute_result"
    }
   ],
   "source": [
    "# Fine tuning parameters\n",
    "\n",
    "from sklearn.ensemble import RandomForestRegressor\n",
    "\n",
    "forest_reg = RandomForestRegressor(n_estimators=100, random_state=42)\n",
    "forest_reg.fit(X_train, y_train)\n",
    "\n",
    "\n",
    "from sklearn.model_selection import GridSearchCV\n",
    "\n",
    "param_grid = [\n",
    "    # try 12 (3×4) combinations of hyperparameters\n",
    "    {'n_estimators': [3, 10, 30], 'max_features': [2, 4, 6, 8]},\n",
    "    # then try 6 (2×3) combinations with bootstrap set as False\n",
    "    {'bootstrap': [False], 'n_estimators': [3, 10], 'max_features': [2, 3, 4]},\n",
    "  ]\n",
    "\n",
    "forest_reg = RandomForestRegressor(random_state=42)\n",
    "# train across 5 folds, that's a total of (12+6)*5=90 rounds of training \n",
    "grid_search = GridSearchCV(forest_reg, param_grid, cv=5,\n",
    "                           scoring='neg_mean_squared_error',\n",
    "                           return_train_score=True)\n",
    "grid_search.fit(X_train, y_train)\n",
    "\n",
    "grid_search.best_params_"
   ]
  },
  {
   "cell_type": "code",
   "execution_count": 32,
   "metadata": {},
   "outputs": [],
   "source": [
    "from sklearn.metrics import mean_squared_error\n",
    "\n",
    "forest_reg = RandomForestRegressor(n_estimators=30, max_features=8, random_state=42)\n",
    "forest_reg.fit(X_train, y_train)\n",
    "y_predict = forest_reg.predict(X_test)\n",
    "\n",
    "mse = mean_squared_error(y_test, y_predict)\n",
    "\n",
    "print(\"MSE:\", mse)\n",
    "\n",
    "\n",
    "X_train.plot()"
   ]
  }
 ],
 "metadata": {
  "kernelspec": {
   "display_name": "Python 3.10.7 64-bit (microsoft store)",
   "language": "python",
   "name": "python3"
  },
  "language_info": {
   "codemirror_mode": {
    "name": "ipython",
    "version": 3
   },
   "file_extension": ".py",
   "mimetype": "text/x-python",
   "name": "python",
   "nbconvert_exporter": "python",
   "pygments_lexer": "ipython3",
   "version": "3.10.7"
  },
  "orig_nbformat": 4,
  "vscode": {
   "interpreter": {
    "hash": "846c07ae2efd68c544400e5324b862b29c62a2871f6310ca3d84341a1376a9d4"
   }
  }
 },
 "nbformat": 4,
 "nbformat_minor": 2
}
