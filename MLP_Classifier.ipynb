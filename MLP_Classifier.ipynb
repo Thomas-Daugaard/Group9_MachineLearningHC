{
  "cells": [
    {
      "cell_type": "markdown",
      "metadata": {
        "id": "view-in-github",
        "colab_type": "text"
      },
      "source": [
        "<a href=\"https://colab.research.google.com/github/ecdison/Group9_MachineLearningHC/blob/main/MLP_Classifier.ipynb\" target=\"_parent\"><img src=\"https://colab.research.google.com/assets/colab-badge.svg\" alt=\"Open In Colab\"/></a>"
      ]
    },
    {
      "cell_type": "code",
      "execution_count": null,
      "id": "41ee3bcf",
      "metadata": {
        "id": "41ee3bcf"
      },
      "outputs": [],
      "source": [
        "import numpy as np\n",
        "import pandas as pd\n",
        "from sklearn.linear_model import Perceptron\n",
        "\n",
        "train_x = pd.read_csv('train_x.csv')\n",
        "train_y = pd.read_csv('train_y.csv')\n",
        "test_x = pd.read_csv('test_x.csv')\n",
        "test_y = pd.read_csv('test_y.csv')"
      ]
    },
    {
      "cell_type": "code",
      "execution_count": null,
      "id": "36aecb08",
      "metadata": {
        "id": "36aecb08"
      },
      "outputs": [],
      "source": [
        "from sklearn.neural_network import MLPClassifier\n",
        "\n",
        "MLP = MLPClassifier(activation='relu', alpha=0.05, batch_size='auto', beta_1=0.9,\n",
        "       beta_2=0.999, early_stopping=False, epsilon=1e-08,\n",
        "       hidden_layer_sizes=(20, 50, 70, 100, 70, 50, 20),\n",
        "       learning_rate='adaptive', learning_rate_init=0.001, max_iter=500,\n",
        "       momentum=0.9, n_iter_no_change=10, nesterovs_momentum=True,\n",
        "       power_t=0.5, random_state=None, shuffle=True, solver='sgd',\n",
        "       tol=0.0001, validation_fraction=0.1, verbose=True,\n",
        "       warm_start=False)"
      ]
    },
    {
      "cell_type": "code",
      "execution_count": null,
      "id": "41764e93",
      "metadata": {
        "id": "41764e93"
      },
      "outputs": [],
      "source": [
        "MLP.fit(train_x,train_y_num)"
      ]
    },
    {
      "cell_type": "code",
      "execution_count": null,
      "id": "6dd721c2",
      "metadata": {
        "id": "6dd721c2"
      },
      "outputs": [],
      "source": [
        "y_pred = MLP.predict(test_x)"
      ]
    },
    {
      "cell_type": "code",
      "execution_count": null,
      "id": "2639522e",
      "metadata": {
        "id": "2639522e"
      },
      "outputs": [],
      "source": [
        "from sklearn.metrics import classification_report\n",
        "\n",
        "print(classification_report(test_y, y_pred))"
      ]
    }
  ],
  "metadata": {
    "kernelspec": {
      "display_name": "Python 3 (ipykernel)",
      "language": "python",
      "name": "python3"
    },
    "language_info": {
      "codemirror_mode": {
        "name": "ipython",
        "version": 3
      },
      "file_extension": ".py",
      "mimetype": "text/x-python",
      "name": "python",
      "nbconvert_exporter": "python",
      "pygments_lexer": "ipython3",
      "version": "3.9.12"
    },
    "colab": {
      "provenance": [],
      "include_colab_link": true
    }
  },
  "nbformat": 4,
  "nbformat_minor": 5
}